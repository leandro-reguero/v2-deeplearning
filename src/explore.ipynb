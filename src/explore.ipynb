{
    "cells": [
        {
            "cell_type": "markdown",
            "metadata": {},
            "source": [
                "# Explore here"
            ]
        },
        {
            "cell_type": "code",
            "execution_count": 3,
            "metadata": {},
            "outputs": [
                {
                    "name": "stdout",
                    "output_type": "stream",
                    "text": [
                        "Downloading data from https://download.microsoft.com/download/3/E/1/3E1C3F21-ECDB-4869-8368-6DEBA77B919F/kagglecatsanddogs_5340.zip\n",
                        "\u001b[1m824887076/824887076\u001b[0m \u001b[32m━━━━━━━━━━━━━━━━━━━━\u001b[0m\u001b[37m\u001b[0m \u001b[1m7s\u001b[0m 0us/step\n",
                        "Found 25000 files belonging to 2 classes.\n",
                        "Using 20000 files for training.\n",
                        "Found 25000 files belonging to 2 classes.\n",
                        "Using 5000 files for validation.\n",
                        "(32, 128, 128, 3)\n",
                        "(32,)\n"
                    ]
                }
            ],
            "source": [
                "import tensorflow as tf\n",
                "import os\n",
                "import zipfile\n",
                "import pathlib\n",
                "\n",
                "# Descargar el archivo ZIP manualmente\n",
                "url = \"https://download.microsoft.com/download/3/E/1/3E1C3F21-ECDB-4869-8368-6DEBA77B919F/kagglecatsanddogs_5340.zip\"\n",
                "zip_path = tf.keras.utils.get_file('kagglecatsanddogs_5340.zip', origin=url, extract=False)\n",
                "\n",
                "# Descomprimir el archivo ZIP\n",
                "with zipfile.ZipFile(zip_path, 'r') as zip_ref:\n",
                "    zip_ref.extractall(os.path.dirname(zip_path))\n",
                "\n",
                "# Definir la ruta al directorio descomprimido\n",
                "extracted_path = os.path.join(os.path.dirname(zip_path), 'PetImages')\n",
                "\n",
                "# Crear un dataset de TensorFlow a partir del directorio descomprimido\n",
                "data_dir = pathlib.Path(extracted_path)\n",
                "\n",
                "# Parámetros del dataset\n",
                "batch_size = 32\n",
                "img_height = 128\n",
                "img_width = 128\n",
                "\n",
                "# Crear el dataset de entrenamiento y validación\n",
                "train_ds = tf.keras.preprocessing.image_dataset_from_directory(\n",
                "  data_dir,\n",
                "  validation_split=0.2,\n",
                "  subset=\"training\",\n",
                "  seed=123,\n",
                "  image_size=(img_height, img_width),\n",
                "  batch_size=batch_size)\n",
                "val_ds = tf.keras.preprocessing.image_dataset_from_directory(\n",
                "  data_dir,\n",
                "  validation_split=0.2,\n",
                "  subset=\"validation\",\n",
                "  seed=123,\n",
                "  image_size=(img_height, img_width),\n",
                "  batch_size=batch_size)\n",
                "\n",
                "# Normalizar los valores de los píxeles de 0-255 a 0-1\n",
                "normalization_layer = tf.keras.layers.Rescaling(1./255)\n",
                "normalized_train_ds = train_ds.map(lambda x, y: (normalization_layer(x), y))\n",
                "normalized_val_ds = val_ds.map(lambda x, y: (normalization_layer(x), y))\n",
                "\n",
                "# Imprimir la estructura del dataset\n",
                "for image_batch, labels_batch in normalized_train_ds:\n",
                "    print(image_batch.shape)\n",
                "    print(labels_batch.shape)\n",
                "    break"
            ]
        },
        {
            "cell_type": "code",
            "execution_count": null,
            "metadata": {},
            "outputs": [],
            "source": []
        }
    ],
    "metadata": {
        "kernelspec": {
            "display_name": "Python 3.8.13 64-bit ('3.8.13')",
            "language": "python",
            "name": "python3"
        },
        "language_info": {
            "codemirror_mode": {
                "name": "ipython",
                "version": 3
            },
            "file_extension": ".py",
            "mimetype": "text/x-python",
            "name": "python",
            "nbconvert_exporter": "python",
            "pygments_lexer": "ipython3",
            "version": "3.11.1"
        },
        "orig_nbformat": 4,
        "vscode": {
            "interpreter": {
                "hash": "110cc1dee26208153f2972f08a2ad52b6a56238dc66d48e87fb757ef2996db56"
            }
        }
    },
    "nbformat": 4,
    "nbformat_minor": 2
}
