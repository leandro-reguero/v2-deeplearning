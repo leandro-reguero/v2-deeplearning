{
    "cells": [
        {
            "cell_type": "markdown",
            "metadata": {},
            "source": [
                "# Explore here"
            ]
        },
        {
            "cell_type": "code",
            "execution_count": 3,
            "metadata": {},
            "outputs": [
                {
                    "name": "stdout",
                    "output_type": "stream",
                    "text": [
                        "Downloading data from https://download.microsoft.com/download/3/E/1/3E1C3F21-ECDB-4869-8368-6DEBA77B919F/kagglecatsanddogs_5340.zip\n",
                        "\u001b[1m824887076/824887076\u001b[0m \u001b[32m━━━━━━━━━━━━━━━━━━━━\u001b[0m\u001b[37m\u001b[0m \u001b[1m7s\u001b[0m 0us/step\n",
                        "Found 25000 files belonging to 2 classes.\n",
                        "Using 20000 files for training.\n",
                        "Found 25000 files belonging to 2 classes.\n",
                        "Using 5000 files for validation.\n",
                        "(32, 128, 128, 3)\n",
                        "(32,)\n"
                    ]
                }
            ],
            "source": [
                "import tensorflow as tf\n",
                "import os\n",
                "import zipfile\n",
                "import pathlib\n",
                "\n",
                "# Descargar el archivo ZIP manualmente\n",
                "url = \"https://download.microsoft.com/download/3/E/1/3E1C3F21-ECDB-4869-8368-6DEBA77B919F/kagglecatsanddogs_5340.zip\"\n",
                "zip_path = tf.keras.utils.get_file('kagglecatsanddogs_5340.zip', origin=url, extract=False)\n",
                "\n",
                "# Descomprimir el archivo ZIP\n",
                "with zipfile.ZipFile(zip_path, 'r') as zip_ref:\n",
                "    zip_ref.extractall(os.path.dirname(zip_path))\n",
                "\n",
                "# Definir la ruta al directorio descomprimido\n",
                "extracted_path = os.path.join(os.path.dirname(zip_path), 'PetImages')\n",
                "\n",
                "# Crear un dataset de TensorFlow a partir del directorio descomprimido\n",
                "data_dir = pathlib.Path(extracted_path)\n",
                "\n",
                "# Parámetros del dataset\n",
                "batch_size = 32\n",
                "img_height = 128\n",
                "img_width = 128\n",
                "\n",
                "# Crear el dataset de entrenamiento y validación\n",
                "train_ds = tf.keras.preprocessing.image_dataset_from_directory(\n",
                "  data_dir,\n",
                "  validation_split=0.2,\n",
                "  subset=\"training\",\n",
                "  seed=123,\n",
                "  image_size=(img_height, img_width),\n",
                "  batch_size=batch_size)\n",
                "val_ds = tf.keras.preprocessing.image_dataset_from_directory(\n",
                "  data_dir,\n",
                "  validation_split=0.2,\n",
                "  subset=\"validation\",\n",
                "  seed=123,\n",
                "  image_size=(img_height, img_width),\n",
                "  batch_size=batch_size)\n",
                "\n",
                "# Normalizar los valores de los píxeles de 0-255 a 0-1\n",
                "normalization_layer = tf.keras.layers.Rescaling(1./255)\n",
                "normalized_train_ds = train_ds.map(lambda x, y: (normalization_layer(x), y))\n",
                "normalized_val_ds = val_ds.map(lambda x, y: (normalization_layer(x), y))\n",
                "\n",
                "# Imprimir la estructura del dataset\n",
                "for image_batch, labels_batch in normalized_train_ds:\n",
                "    print(image_batch.shape)\n",
                "    print(labels_batch.shape)\n",
                "    break"
            ]
        },
        {
            "cell_type": "code",
            "execution_count": 9,
            "metadata": {},
            "outputs": [
                {
                    "name": "stdout",
                    "output_type": "stream",
                    "text": [
                        "c:\\Users\\34616\\miniconda3\\envs\\GPU_Chiclanera\\python.exe\n"
                    ]
                }
            ],
            "source": [
                "import sys\n",
                "print(sys.executable)"
            ]
        },
        {
            "cell_type": "code",
            "execution_count": 10,
            "metadata": {},
            "outputs": [
                {
                    "ename": "ModuleNotFoundError",
                    "evalue": "No module named 'tensorflow_datasets'",
                    "output_type": "error",
                    "traceback": [
                        "\u001b[1;31m---------------------------------------------------------------------------\u001b[0m",
                        "\u001b[1;31mModuleNotFoundError\u001b[0m                       Traceback (most recent call last)",
                        "Cell \u001b[1;32mIn[10], line 2\u001b[0m\n\u001b[0;32m      1\u001b[0m \u001b[38;5;28;01mimport\u001b[39;00m \u001b[38;5;21;01mtensorflow\u001b[39;00m \u001b[38;5;28;01mas\u001b[39;00m \u001b[38;5;21;01mtf\u001b[39;00m\n\u001b[1;32m----> 2\u001b[0m \u001b[38;5;28;01mimport\u001b[39;00m \u001b[38;5;21;01mtensorflow_datasets\u001b[39;00m \u001b[38;5;28;01mas\u001b[39;00m \u001b[38;5;21;01mtfds\u001b[39;00m\n\u001b[0;32m      5\u001b[0m \u001b[38;5;28msetattr\u001b[39m(tfds\u001b[38;5;241m.\u001b[39mimage_classification\u001b[38;5;241m.\u001b[39mcats_vs_dogs, \u001b[38;5;124m'\u001b[39m\u001b[38;5;124m_URL\u001b[39m\u001b[38;5;124m'\u001b[39m,\u001b[38;5;124m\"\u001b[39m\u001b[38;5;124mhttps://download.microsoft.com/download/3/E/1/3E1C3F21-ECDB-4869-8368-6DEBA77B919F/kagglecatsanddogs_5340.zip\u001b[39m\u001b[38;5;124m\"\u001b[39m)\n\u001b[0;32m      7\u001b[0m \u001b[38;5;66;03m#Descargar el set de datos de perros y gatos\u001b[39;00m\n",
                        "\u001b[1;31mModuleNotFoundError\u001b[0m: No module named 'tensorflow_datasets'"
                    ]
                }
            ],
            "source": [
                "import tensorflow as tf\n",
                "import tensorflow_datasets as tfds\n",
                "\n",
                "\n",
                "setattr(tfds.image_classification.cats_vs_dogs, '_URL',\"https://download.microsoft.com/download/3/E/1/3E1C3F21-ECDB-4869-8368-6DEBA77B919F/kagglecatsanddogs_5340.zip\")\n",
                "\n",
                "#Descargar el set de datos de perros y gatos\n",
                "datos, metadatos = tfds.load('cats_vs_dogs', as_supervised=True, with_info=True)"
            ]
        },
        {
            "cell_type": "code",
            "execution_count": 1,
            "metadata": {},
            "outputs": [
                {
                    "name": "stdout",
                    "output_type": "stream",
                    "text": [
                        "TensorFlow Version: 2.10.0\n",
                        "GPU: ['device: 0, name: NVIDIA GeForce RTX 3060 Ti, pci bus id: 0000:01:00.0, compute capability: 8.6']\n",
                        "CUDA Version: 64_112\n",
                        "cuDNN Version: 64_8\n",
                        "\n"
                    ]
                }
            ],
            "source": [
                "import tensorflow as tf\n",
                "from tensorflow.python.client import device_lib\n",
                "\n",
                "def print_info():\n",
                "    print('TensorFlow Version: {}'.format(tf.__version__))\n",
                "    print('GPU: {}'.format([x.physical_device_desc for x in device_lib.list_local_devices() if x.device_type == 'GPU']))\n",
                "    print('CUDA Version: {}'.format(tf.sysconfig.get_build_info()['cuda_version']))\n",
                "    print('cuDNN Version: {}\\n'.format(tf.sysconfig.get_build_info()['cudnn_version']))\n",
                "\n",
                "print_info()"
            ]
        }
    ],
    "metadata": {
        "kernelspec": {
            "display_name": "Python 3.8.13 64-bit ('3.8.13')",
            "language": "python",
            "name": "python3"
        },
        "language_info": {
            "codemirror_mode": {
                "name": "ipython",
                "version": 3
            },
            "file_extension": ".py",
            "mimetype": "text/x-python",
            "name": "python",
            "nbconvert_exporter": "python",
            "pygments_lexer": "ipython3",
            "version": "3.8.0"
        },
        "orig_nbformat": 4,
        "vscode": {
            "interpreter": {
                "hash": "110cc1dee26208153f2972f08a2ad52b6a56238dc66d48e87fb757ef2996db56"
            }
        }
    },
    "nbformat": 4,
    "nbformat_minor": 2
}
